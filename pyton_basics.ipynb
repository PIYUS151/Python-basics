{
  "nbformat": 4,
  "nbformat_minor": 0,
  "metadata": {
    "colab": {
      "provenance": []
    },
    "kernelspec": {
      "name": "python3",
      "display_name": "Python 3"
    },
    "language_info": {
      "name": "python"
    }
  },
  "cells": [
    {
      "cell_type": "markdown",
      "source": [
        "# Python Basics Questions\n",
        "\n"
      ],
      "metadata": {
        "id": "bJWYjOdpFbh2"
      }
    },
    {
      "cell_type": "markdown",
      "source": [
        "**1. What is Python, and why is it popular?**\n",
        "  \n",
        "  ->Python is a popular programming language because it's easy to learn, versatile, and can run on many different platforms.\n",
        "\n",
        "  **Easy to learn**\n",
        "\n",
        "  Python has a simple syntax that uses English keywords and indentation instead of parentheses. This makes it easier to read and understand the code.\n",
        "\n",
        " **Versatile**\n",
        "\n",
        "  Python can be used for many different tasks, including:\n",
        "\n",
        " Web development\n",
        "\n",
        " Data science\n",
        "\n",
        " Machine learning\n",
        "\n",
        " Software testing and prototyping\n",
        "\n",
        " Automation\n",
        "\n",
        " Everyday tasks, like organizing finances\n",
        " Internet of Things (IoT) development\n",
        "\n",
        " **Runs on many different platforms**\n",
        "\n",
        " Python is a cross-platform language, which means you can run the same code on any operating system with a Python interpreter\n",
        "\n",
        ""
      ],
      "metadata": {
        "id": "cHLuVNcbT8kY"
      }
    },
    {
      "cell_type": "markdown",
      "source": [
        "**2. What is an interpreter in Python?**\n",
        "\n",
        " ->An interpreter is a program that reads Python code line by line, converts it to bytecode, and executes it. Unlike compiled languages, Python code is not converted into machine code directly. This makes debugging easier but slightly slower compared to compiled languages like C.\n",
        "\n",
        " A Python interpreter is a computer program that translates Python code into machine code so that a computer can understand and execute it"
      ],
      "metadata": {
        "id": "fh_TuW76XA2H"
      }
    },
    {
      "cell_type": "markdown",
      "source": [
        "**3. What are pre-defined keywords in Python?**\n",
        "\n",
        "  ->Pre-defined keywords are reserved words that have specific purposes and cannot be used as identifiers (variable names, function names). Examples include if, else, for, def, return, class, etc.\n",
        "  You can list all keywords in Python using the keyword module:\n",
        "\n",
        "  import keyword  \n",
        "  print(keyword.kwlist)\n"
      ],
      "metadata": {
        "id": "W1ncPam9y2yi"
      }
    },
    {
      "cell_type": "markdown",
      "source": [
        "**4.  Can keywords be used as variable names?**\n",
        "\n",
        "  ->No, keywords cannot be used as variable names because they are reserved for\n",
        "    specific functionalities in Python.\n",
        "\n",
        "  Examples\n",
        "\n",
        "    In Java, keywords include \"for\", \"if\", \"class\", \"static\", \"int\", and \"double\".\n",
        "\n",
        "    In Python, variable names cannot be any of the Python keywords.\n",
        ""
      ],
      "metadata": {
        "id": "YlmEje-4zT8f"
      }
    },
    {
      "cell_type": "markdown",
      "source": [
        "5.  **What is mutability in Python?**\n",
        "\n",
        "  ->Mutability refers to the ability of an object to be changed after its creation.\n",
        "  \n",
        " **Mutable objects**\n",
        "\n",
        "  Objects that can be changed after they have been created.\n",
        "\n",
        "  (e.g., list, dict, set).\n",
        "\n",
        " **Immutable objects**\n",
        "\n",
        "  Objects that cannot be changed after they have been created.\n",
        "  \n",
        "  (e.g., int, str, tuple)."
      ],
      "metadata": {
        "id": "A9yKanhaz8zn"
      }
    },
    {
      "cell_type": "markdown",
      "source": [
        "**6.  Why are lists mutable, but tuples are immutable?**\n",
        "\n",
        " -> * Lists are designed for dynamic data storage and allow modifications,\n",
        "       like adding or removing elements.\n",
        "       \n",
        "  Lists are mutable and can be modified\n",
        "    \n",
        "*  Tuples are immutable to ensure data integrity and performance, as their\n",
        "    fixed nature allows for optimizations.\n",
        "       \n",
        "    Tuples are immutable, meaning their contents cannot be changed after creation\n"
      ],
      "metadata": {
        "id": "aUUmsANU1JF1"
      }
    },
    {
      "cell_type": "markdown",
      "source": [
        "**7.  What is the difference between “==” and “is” operators in Python?**\n",
        "\n",
        "  ->  == checks if values of two objects are equal.\n",
        "  \n",
        "  is checks if two objects refer to the same memory location.\n",
        "\n",
        "     Example:\n",
        "\n",
        "     x = [1, 2, 3]  \n",
        "     y = [1, 2, 3]  \n",
        "     print(x == y)  # True: values are the same  \n",
        "     print(x is y)  # False: memory locations are different\n"
      ],
      "metadata": {
        "id": "E2M8mmV92NwK"
      }
    },
    {
      "cell_type": "markdown",
      "source": [
        "**8.  What are logical operators in Python?**\n",
        "\n",
        "  ->Logical operators in Python are used to evaluate multiple conditions and determine the truth value of an expression. They are also known as Boolean operators.\n",
        "\n",
        "  Logical operators are used to combine conditional statements:\n",
        "\n",
        "  **and**: Returns True if both statements are true. For example, x < 5 and x < 10.\n",
        "\n",
        "  **or**: Returns True if one of the statements is true. For example, x < 5 or x < 4.\n",
        "\n",
        "  **not**: Reverses the result, so if something is True, not turns it False. For example, not(x < 5 and x < 10)"
      ],
      "metadata": {
        "id": "6RLQAwlE3Ad9"
      }
    },
    {
      "cell_type": "markdown",
      "source": [
        "**9.  What is type casting in Python?**\n",
        "\n",
        "  ->Type casting in Python is the process of converting a variable's data type from one type to another. It's also known as type conversion.\n",
        "\n",
        "  Type casting converts one data type into another.\n",
        "\n",
        "  There are two types of type casting in Python:\n",
        "\n",
        "  **Implicit**\n",
        "\n",
        "  Python automatically converts one data type to another without any explicit instruction from the programmer. This often happens when operating with mixed data types. For example, when adding an integer to a float, Python automatically converts the integer to a float.\n",
        "\n",
        "  **Explicit**\n",
        "\n",
        "  This is when you use predefined Python functions like int(), float(), or str() to convert an object's data type. For example, you can use int() to convert a string or float to an integer.\n",
        "\n",
        "  x = \"10\"  \n",
        "y = int(x)  # Explicit casting  \n",
        "print(y)  # 10 as an integer\n"
      ],
      "metadata": {
        "id": "uO3d2oYi3ARz"
      }
    },
    {
      "cell_type": "markdown",
      "source": [
        "**10.  What is the difference between implicit and explicit type casting?**\n",
        "  \n",
        "  ->**Implicit type casting**:\n",
        "  \n",
        "  Automatically done by Python.\n",
        "\n",
        " Python automatically converts one data type to another without any explicit instruction from the programmer. This often happens when operating with mixed data types. For example, when adding an integer to a float, Python automatically converts the integer to a float.\n",
        "\n",
        "      (e.g., int to float).\n",
        "\n",
        "   **Explicit type casting**:\n",
        "      \n",
        "  Done manually by the programmer using functions.\n",
        "\n",
        "  Requires the programmer to explicitly define the type conversion. This approach provides more control over the data conversion process and allows for precise management of data types.\n",
        "\n",
        "      (e.g., int(), float(), and str() )"
      ],
      "metadata": {
        "id": "JokZR2402_z0"
      }
    },
    {
      "cell_type": "markdown",
      "source": [
        "**11.  What is the purpose of conditional statements in Python?**\n",
        "\n",
        "  ->Conditional statements (if, elif, else) are used to execute different blocks of code based on conditions.\n",
        "\n",
        "  The purpose of conditional statements in Python is to control the flow of a program by making decisions based on certain conditions:\n",
        "\n",
        "  **How they work**\n",
        "\n",
        "  Conditional statements check the value of a condition and execute a block of code if the condition is true. If the condition is false, the code is not executed.\n",
        "\n",
        "  **Benefits**\n",
        "\n",
        "  Conditional statements can make code more efficient and easier to read. For example, you can use a conditional statement to print a message only if a certain condition is met.\n",
        "\n",
        "  **Types**\n",
        "\n",
        "  Python offers different types of conditional statements, including if, if-else, elif, and nested if statements.\n",
        "\n",
        "  **Operators**\n",
        "\n",
        "  You can use operators like equals (==), not equals (!=), greater than (>), less than (<), and greater than or equal to (>=) with conditional statements."
      ],
      "metadata": {
        "id": "IJc_O2r27ghh"
      }
    },
    {
      "cell_type": "markdown",
      "source": [
        "**12.  How does the elif statement work?**\n",
        "  \n",
        "   ->  The elif statement is used to check multiple conditions. If one condition is true, the corresponding block executes.\n",
        "\n",
        "    **For example**, if the first condition is false, it moves on to the next “elif” statement to check if that condition is true."
      ],
      "metadata": {
        "id": "fJLjEjaF7gbL"
      }
    },
    {
      "cell_type": "markdown",
      "source": [
        "**13.  What is the difference between for and while loops?**\n",
        "\n",
        "   ->**for loop**:  Iterates over a sequence for a fixed number of times.\n",
        "\n",
        "  Used when the number of iterations is known in advance. A for loop repeats a block of code for each item in a list or sequence. For example, you can use a for loop to print out all the elements of a vector.\n",
        "\n",
        "  **while loop**: Runs as long as a condition is true.\n",
        "\n",
        " Used when the number of iterations is unknown in advance. A while loop repeats a block of code as long as a certain condition is true. For example, you can use a while loop to ask a user for a number between 1 and 10.\n",
        "\n",
        " Here are some other differences between for and while loops:\n",
        "    \n",
        "**Initialization**, expression, and increment statements: A for loop is always followed by these statements.\n",
        "\n",
        "   **Else clause**: In a for loop, the else clause is executed after the loop finishes\n",
        "   its final iteration. In a while loop, it's executed after the loop's condition becomes false.\n",
        "\n",
        "   **Loop structure**: A for loop provides a concise way to write the loop structure.\n",
        "\n",
        "\n"
      ],
      "metadata": {
        "id": "Q1uA0rVR7gTP"
      }
    },
    {
      "cell_type": "markdown",
      "source": [
        "**14.  Describe a scenario where a while loop is more suitable than a for loop?**\n",
        "\n",
        "   -> a 'while' loop is ideal for situations where the number of iterations is not predetermined and depends on some dynamic condition.\n",
        "\n",
        "   When the number of iterations is unknown, such as waiting for user input\n",
        "\n",
        "   user_input = \"\"  \n",
        "while user_input != \"quit\":  \n",
        "    user_input = input(\"Enter 'quit' to stop: \")\n"
      ],
      "metadata": {
        "id": "StQS5pEQ7gK3"
      }
    },
    {
      "cell_type": "markdown",
      "source": [
        "# Practical Questions"
      ],
      "metadata": {
        "id": "eB4_a8WuBFF9"
      }
    },
    {
      "cell_type": "code",
      "execution_count": 10,
      "metadata": {
        "id": "UtfE1iicEkeO",
        "colab": {
          "base_uri": "https://localhost:8080/"
        },
        "outputId": "2a8f14f1-5fee-464d-c598-9108a7dd4540"
      },
      "outputs": [
        {
          "output_type": "stream",
          "name": "stdout",
          "text": [
            "Hello ,World!\n"
          ]
        }
      ],
      "source": [
        "# 1. Write a Python program to print \"Hello, World!\".\n",
        "print(\"Hello ,World!\")\n",
        "\n"
      ]
    },
    {
      "cell_type": "code",
      "source": [
        "# 2.Write a Python program that displays your name and age.\n",
        "name = \"Piyush Chauhan\"\n",
        "age = 25\n",
        "print(f\"Name: {name}, Age: {age}\")\n",
        "\n",
        ""
      ],
      "metadata": {
        "colab": {
          "base_uri": "https://localhost:8080/"
        },
        "id": "vkFdonTfBRGK",
        "outputId": "d7300471-91f8-4523-bb45-d3220b0d085c"
      },
      "execution_count": 13,
      "outputs": [
        {
          "output_type": "stream",
          "name": "stdout",
          "text": [
            "Name: Piyush Chauhan, Age: 25\n"
          ]
        }
      ]
    },
    {
      "cell_type": "code",
      "source": [
        "# 3. Write code to print all the pre-defined keywords in Python using the keyword library.\n",
        "import keyword\n",
        "print(keyword.kwlist)\n"
      ],
      "metadata": {
        "colab": {
          "base_uri": "https://localhost:8080/"
        },
        "id": "LSFsPI9vCdRC",
        "outputId": "8fa86b8a-ed81-497e-885d-4045a691d625"
      },
      "execution_count": 14,
      "outputs": [
        {
          "output_type": "stream",
          "name": "stdout",
          "text": [
            "['False', 'None', 'True', 'and', 'as', 'assert', 'async', 'await', 'break', 'class', 'continue', 'def', 'del', 'elif', 'else', 'except', 'finally', 'for', 'from', 'global', 'if', 'import', 'in', 'is', 'lambda', 'nonlocal', 'not', 'or', 'pass', 'raise', 'return', 'try', 'while', 'with', 'yield']\n"
          ]
        }
      ]
    },
    {
      "cell_type": "code",
      "source": [
        "# 4. Write a program that checks if a given word is a Python keyword.\n",
        "import keyword\n",
        "word = input(\"Enter a word: \")\n",
        "print(f\"{word} is a keyword: {keyword.iskeyword(word)}\")\n"
      ],
      "metadata": {
        "colab": {
          "base_uri": "https://localhost:8080/"
        },
        "id": "eUZtM4X4C37Q",
        "outputId": "a36c076a-d07c-4d73-a779-a81f6622019b"
      },
      "execution_count": 15,
      "outputs": [
        {
          "output_type": "stream",
          "name": "stdout",
          "text": [
            "Enter a word: none\n",
            "none is a keyword: False\n"
          ]
        }
      ]
    },
    {
      "cell_type": "code",
      "source": [
        "# 5. Create a list and tuple in Python, and demonstrate how attempting to change an element works differently for each.\n",
        "my_list = [1, 2, 3]\n",
        "my_list[0] = 10  # Allowed (mutable)\n",
        "print(my_list)\n",
        "my_tuple = (1, 2, 3)\n",
        "print(my_tuple)\n",
        "\n"
      ],
      "metadata": {
        "colab": {
          "base_uri": "https://localhost:8080/"
        },
        "id": "FxLp-QBqDdrK",
        "outputId": "d4d24a6d-3840-45b0-ccb0-099d5d541982"
      },
      "execution_count": 20,
      "outputs": [
        {
          "output_type": "stream",
          "name": "stdout",
          "text": [
            "[10, 2, 3]\n",
            "(1, 2, 3)\n"
          ]
        }
      ]
    },
    {
      "cell_type": "code",
      "source": [
        "# 6.Write a function to demonstrate the behavior of mutable and immutable arguments0\n",
        "def demonstrate_mutable_immutable(mutable_arg, immutable_arg):\n",
        "    # Modifying the mutable argument\n",
        "    print(\"Before modifying mutable argument:\", mutable_arg)\n",
        "    mutable_arg.append(100)  # Modify the mutable object (list)\n",
        "    print(\"After modifying mutable argument:\", mutable_arg)\n",
        "\n",
        "    # Modifying the immutable argument\n",
        "    print(\"Before modifying immutable argument:\", immutable_arg)\n",
        "    immutable_arg += 10  # This creates a new object (does not modify original value)\n",
        "    print(\"After modifying immutable argument:\", immutable_arg)\n",
        "\n",
        "\n",
        "# Initialize mutable and immutable arguments\n",
        "my_list = [1, 2, 3]  # Mutable object (list)\n",
        "my_int = 10          # Immutable object (integer)\n",
        "\n",
        "# Call the function\n",
        "print(\"Calling the function...\")\n",
        "demonstrate_mutable_immutable(my_list, my_int)\n",
        "\n",
        "# Check the values outside the function\n",
        "print(\"\\nOutside the function:\")\n",
        "print(\"Mutable argument (list):\", my_list)  # The list gets modified\n",
        "print(\"Immutable argument (integer):\", my_int)  # The integer remains unchanged\n"
      ],
      "metadata": {
        "colab": {
          "base_uri": "https://localhost:8080/"
        },
        "id": "MkBvASEBGCKS",
        "outputId": "ee5842c2-fde5-4a0d-c9c5-fdbeff566fa0"
      },
      "execution_count": 23,
      "outputs": [
        {
          "output_type": "stream",
          "name": "stdout",
          "text": [
            "Calling the function...\n",
            "Before modifying mutable argument: [1, 2, 3]\n",
            "After modifying mutable argument: [1, 2, 3, 100]\n",
            "Before modifying immutable argument: 10\n",
            "After modifying immutable argument: 20\n",
            "\n",
            "Outside the function:\n",
            "Mutable argument (list): [1, 2, 3, 100]\n",
            "Immutable argument (integer): 10\n"
          ]
        }
      ]
    },
    {
      "cell_type": "code",
      "source": [
        "# 7.0 Write a function to demonstrate the behavior of mutable and immutable arguments.\n",
        "def mutable_immutable_demo(mutable_arg, immutable_arg):\n",
        "    # Demonstrating behavior of mutable argument\n",
        "    print(\"Before modifying mutable argument:\", mutable_arg)\n",
        "    mutable_arg.append(100)  # Modify the list (mutable)\n",
        "    print(\"After modifying mutable argument:\", mutable_arg)\n",
        "\n",
        "    # Demonstrating behavior of immutable argument\n",
        "    print(\"Before modifying immutable argument:\", immutable_arg)\n",
        "    immutable_arg += 10  # This creates a new object (does not modify the original)\n",
        "    print(\"After modifying immutable argument:\", immutable_arg)\n",
        "\n",
        "\n",
        "# Initial values\n",
        "my_list = [1, 2, 3]  # Mutable object\n",
        "my_int = 10  # Immutable object\n",
        "\n",
        "# Call the function\n",
        "mutable_immutable_demo(my_list, my_int)\n",
        "\n",
        "# Check values after function call\n",
        "print(\"\\nOutside the function:\")\n",
        "print(\"Mutable argument (list):\", my_list)  # Modified list persists\n",
        "print(\"Immutable argument (integer):\", my_int)  # Original integer remains unchanged\n"
      ],
      "metadata": {
        "colab": {
          "base_uri": "https://localhost:8080/"
        },
        "id": "_K04vgPCGyeJ",
        "outputId": "f056d5aa-bccd-4f80-e8c8-fd0b184e6c04"
      },
      "execution_count": 24,
      "outputs": [
        {
          "output_type": "stream",
          "name": "stdout",
          "text": [
            "Before modifying mutable argument: [1, 2, 3]\n",
            "After modifying mutable argument: [1, 2, 3, 100]\n",
            "Before modifying immutable argument: 10\n",
            "After modifying immutable argument: 20\n",
            "\n",
            "Outside the function:\n",
            "Mutable argument (list): [1, 2, 3, 100]\n",
            "Immutable argument (integer): 10\n"
          ]
        }
      ]
    },
    {
      "cell_type": "code",
      "source": [
        "# 8. Write a program to demonstrate the use of logical operators.\n",
        "def demonstrate_logical_operators():\n",
        "    # Define variables\n",
        "    a = True\n",
        "    b = False\n",
        "    x = 10\n",
        "    y = 20\n",
        "\n",
        "    # AND operator\n",
        "    print(\"Logical AND Operator:\")\n",
        "    print(\"a and b:\", a and b)  # Both must be True\n",
        "    print(\"x > 5 and y > 15:\", x > 5 and y > 15)  # Both conditions are True\n",
        "\n",
        "    # OR operator\n",
        "    print(\"\\nLogical OR Operator:\")\n",
        "    print(\"a or b:\", a or b)  # At least one must be True\n",
        "    print(\"x > 15 or y > 15:\", x > 15 or y > 15)  # One condition is True\n",
        "\n",
        "    # NOT operator\n",
        "    print(\"\\nLogical NOT Operator:\")\n",
        "    print(\"not a:\", not a)  # Negates the value of True (becomes False)\n",
        "    print(\"not b:\", not b)  # Negates the value of False (becomes True)\n",
        "    print(\"not (x > y):\", not (x > y))  # x > y is False, so NOT makes it True\n",
        "\n",
        "\n",
        "# Call the function to demonstrate logical operators\n",
        "demonstrate_logical_operators()\n"
      ],
      "metadata": {
        "colab": {
          "base_uri": "https://localhost:8080/"
        },
        "id": "RmUV5jYDJK6g",
        "outputId": "96179450-58d0-4f6f-a5ba-4d2dad74adf2"
      },
      "execution_count": 25,
      "outputs": [
        {
          "output_type": "stream",
          "name": "stdout",
          "text": [
            "Logical AND Operator:\n",
            "a and b: False\n",
            "x > 5 and y > 15: True\n",
            "\n",
            "Logical OR Operator:\n",
            "a or b: True\n",
            "x > 15 or y > 15: True\n",
            "\n",
            "Logical NOT Operator:\n",
            "not a: False\n",
            "not b: True\n",
            "not (x > y): True\n"
          ]
        }
      ]
    },
    {
      "cell_type": "code",
      "source": [
        "# 9. Write a Python program to convert user input from string to integer, float, and boolean types.\n",
        "def convert_input_types():\n",
        "    # Take user input as a string\n",
        "    user_input = input(\"Enter a value: \")\n",
        "\n",
        "    # Convert to integer\n",
        "    try:\n",
        "        int_value = int(user_input)\n",
        "        print(\"Converted to Integer:\", int_value)\n",
        "    except ValueError:\n",
        "        print(\"Cannot convert to Integer.\")\n",
        "\n",
        "    # Convert to float\n",
        "    try:\n",
        "        float_value = float(user_input)\n",
        "        print(\"Converted to Float:\", float_value)\n",
        "    except ValueError:\n",
        "        print(\"Cannot convert to Float.\")\n",
        "\n",
        "    # Convert to boolean\n",
        "    # Anything other than empty string is True\n",
        "    bool_value = bool(user_input)\n",
        "    print(\"Converted to Boolean:\", bool_value)\n",
        "\n",
        "\n",
        "# Call the function\n",
        "convert_input_types()\n",
        "\n"
      ],
      "metadata": {
        "colab": {
          "base_uri": "https://localhost:8080/"
        },
        "id": "4enWFPlgJbI0",
        "outputId": "df315546-869b-4372-bf0f-bda69649399b"
      },
      "execution_count": 26,
      "outputs": [
        {
          "output_type": "stream",
          "name": "stdout",
          "text": [
            "Enter a value: 25\n",
            "Converted to Integer: 25\n",
            "Converted to Float: 25.0\n",
            "Converted to Boolean: True\n"
          ]
        }
      ]
    },
    {
      "cell_type": "code",
      "source": [
        "# 10.Write code to demonstrate type casting with list elements.\n",
        "def type_cast_list_elements():\n",
        "    # Original list with string numbers\n",
        "    string_list = [\"10\", \"20\", \"30\", \"40\", \"50\"]\n",
        "\n",
        "    print(\"Original list (string elements):\", string_list)\n",
        "\n",
        "    # Convert each element to integer using list comprehension\n",
        "    int_list = [int(x) for x in string_list]\n",
        "    print(\"List after converting to integers:\", int_list)\n",
        "\n",
        "    # Convert each element to float using list comprehension\n",
        "    float_list = [float(x) for x in string_list]\n",
        "    print(\"List after converting to floats:\", float_list)\n",
        "\n",
        "    # Convert each element to boolean using list comprehension\n",
        "    # Non-empty strings become True, so all elements will be True\n",
        "    bool_list = [bool(x) for x in string_list]\n",
        "    print(\"List after converting to booleans:\", bool_list)\n",
        "\n",
        "\n",
        "# Call the function\n",
        "type_cast_list_elements()\n"
      ],
      "metadata": {
        "colab": {
          "base_uri": "https://localhost:8080/"
        },
        "id": "EKhRoaS5Jyl6",
        "outputId": "4507c56b-59aa-4b15-cfcc-713e96a49abc"
      },
      "execution_count": 27,
      "outputs": [
        {
          "output_type": "stream",
          "name": "stdout",
          "text": [
            "Original list (string elements): ['10', '20', '30', '40', '50']\n",
            "List after converting to integers: [10, 20, 30, 40, 50]\n",
            "List after converting to floats: [10.0, 20.0, 30.0, 40.0, 50.0]\n",
            "List after converting to booleans: [True, True, True, True, True]\n"
          ]
        }
      ]
    },
    {
      "cell_type": "code",
      "source": [
        "# 11.Write a program that checks if a number is positive, negative, or zero.\n",
        "def check_number():\n",
        "    # Taking input from the user\n",
        "    try:\n",
        "        number = float(input(\"Enter a number: \"))  # Convert input to float for broader cases\n",
        "    except ValueError:\n",
        "        print(\"Invalid input! Please enter a numeric value.\")\n",
        "        return\n",
        "\n",
        "    # Check if the number is positive, negative, or zero\n",
        "    if number > 0:\n",
        "        print(\"The number is Positive.\")\n",
        "    elif number < 0:\n",
        "        print(\"The number is Negative.\")\n",
        "    else:\n",
        "        print(\"The number is Zero.\")\n",
        "\n",
        "\n",
        "# Call the function\n",
        "check_number()\n"
      ],
      "metadata": {
        "colab": {
          "base_uri": "https://localhost:8080/"
        },
        "id": "xufKfvSEKKCN",
        "outputId": "e7a48eb8-0eee-46aa-9595-56317edf74fb"
      },
      "execution_count": 30,
      "outputs": [
        {
          "output_type": "stream",
          "name": "stdout",
          "text": [
            "Enter a number: 25\n",
            "The number is Positive.\n"
          ]
        }
      ]
    },
    {
      "cell_type": "code",
      "source": [
        "# 12.Write a for loop to print numbers from 1 to 10.\n",
        "# Using a for loop to print numbers from 1 to 10\n",
        "for number in range(1, 11):  # range(start, stop) where stop is exclusive\n",
        "    print(number)\n"
      ],
      "metadata": {
        "colab": {
          "base_uri": "https://localhost:8080/"
        },
        "id": "wKmvOHyLKX8r",
        "outputId": "3a4c03d4-7c7e-4662-8835-16e7db00cfa2"
      },
      "execution_count": 31,
      "outputs": [
        {
          "output_type": "stream",
          "name": "stdout",
          "text": [
            "1\n",
            "2\n",
            "3\n",
            "4\n",
            "5\n",
            "6\n",
            "7\n",
            "8\n",
            "9\n",
            "10\n"
          ]
        }
      ]
    },
    {
      "cell_type": "code",
      "source": [
        "# 13. Write a Python program to find the sum of all even numbers between 1 and 50.\n",
        "# Initialize a variable to store the sum\n",
        "even_sum = 0\n",
        "\n",
        "# Use a for loop to iterate through numbers from 1 to 50\n",
        "for number in range(1, 51):  # range(start, stop) where stop is exclusive\n",
        "    if number % 2 == 0:  # Check if the number is even\n",
        "        even_sum += number  # Add the even number to the sum\n",
        "\n",
        "# Print the result\n",
        "print(\"The sum of all even numbers between 1 and 50 is:\", even_sum)\n"
      ],
      "metadata": {
        "colab": {
          "base_uri": "https://localhost:8080/"
        },
        "id": "7VForh9aK5n_",
        "outputId": "c83da4bb-9e64-4ffa-fbde-4c4a85cda213"
      },
      "execution_count": 32,
      "outputs": [
        {
          "output_type": "stream",
          "name": "stdout",
          "text": [
            "The sum of all even numbers between 1 and 50 is: 650\n"
          ]
        }
      ]
    },
    {
      "cell_type": "code",
      "source": [
        "# 14.Write a program to reverse a string using a while loop.\n",
        "def reverse_string(input_string):\n",
        "    # Initialize an empty string for the reversed result\n",
        "    reversed_string = \"\"\n",
        "\n",
        "    # Start from the last index of the string\n",
        "    index = len(input_string) - 1\n",
        "\n",
        "    # Use a while loop to iterate through the string in reverse\n",
        "    while index >= 0:\n",
        "        reversed_string += input_string[index]  # Append the current character\n",
        "        index -= 1  # Move to the previous character\n",
        "\n",
        "    return reversed_string\n",
        "\n",
        "# Take input from the user\n",
        "user_input = input(\"Enter a string to reverse: \")\n",
        "\n",
        "# Call the function and display the result\n",
        "result = reverse_string(user_input)\n",
        "print(\"Reversed string:\", result)\n"
      ],
      "metadata": {
        "colab": {
          "base_uri": "https://localhost:8080/"
        },
        "id": "X_Jb5SjkLm6q",
        "outputId": "0239ce71-6210-4c27-91ab-c02ac063cac9"
      },
      "execution_count": 33,
      "outputs": [
        {
          "output_type": "stream",
          "name": "stdout",
          "text": [
            "Enter a string to reverse: Hello\n",
            "Reversed string: olleH\n"
          ]
        }
      ]
    },
    {
      "cell_type": "code",
      "source": [
        "# 15.Write a Python program to calculate the factorial of a number provided by the user using a while loop.\n",
        "def calculate_factorial(number):\n",
        "    # Initialize the factorial result\n",
        "    factorial = 1\n",
        "\n",
        "    # Use a while loop to calculate the factorial\n",
        "    while number > 0:\n",
        "        factorial *= number  # Multiply current factorial value by the number\n",
        "        number -= 1          # Decrease the number by 1 in each iteration\n",
        "\n",
        "    return factorial\n",
        "\n",
        "# Take input from the user\n",
        "try:\n",
        "    user_input = int(input(\"Enter a positive integer to calculate its factorial: \"))\n",
        "    if user_input < 0:\n",
        "        print(\"Factorial is not defined for negative numbers.\")\n",
        "    elif user_input == 0:\n",
        "        print(\"The factorial of 0 is 1.\")  # By definition, factorial of 0 is 1\n",
        "    else:\n",
        "        # Call the function and display the result\n",
        "        result = calculate_factorial(user_input)\n",
        "        print(f\"The factorial of {user_input} is: {result}\")\n",
        "except ValueError:\n",
        "    print(\"Invalid input! Please enter a valid integer.\")\n",
        "\n"
      ],
      "metadata": {
        "colab": {
          "base_uri": "https://localhost:8080/"
        },
        "id": "ISD4xiIVLxGB",
        "outputId": "e15799eb-08d2-4777-8e45-f8ccb0ea8028"
      },
      "execution_count": 35,
      "outputs": [
        {
          "output_type": "stream",
          "name": "stdout",
          "text": [
            "Enter a positive integer to calculate its factorial: 5\n",
            "The factorial of 5 is: 120\n"
          ]
        }
      ]
    },
    {
      "cell_type": "code",
      "source": [],
      "metadata": {
        "id": "wUFocjyvMFGd"
      },
      "execution_count": null,
      "outputs": []
    }
  ]
}